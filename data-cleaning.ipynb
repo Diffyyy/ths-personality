{
 "cells": [
  {
   "cell_type": "markdown",
   "metadata": {},
   "source": [
    "# Data Cleaning for the Personality - Hassles model\n",
    "\n",
    "3 Datasets:\n",
    "1. 'Base' - Base dataset for personality and hassles\n",
    "2. 'Categorical' - Separated on the category of hassles (each file contains 1 category of hassle)\n",
    "3. 'Individual' - Separated on each hassle (each file contains 1 hassle)"
   ]
  },
  {
   "cell_type": "markdown",
   "metadata": {},
   "source": [
    "## Section 1: Import Librares and Reading the Dataset"
   ]
  },
  {
   "cell_type": "code",
   "execution_count": null,
   "metadata": {},
   "outputs": [],
   "source": [
    "import numpy as np\n",
    "import pandas as pd"
   ]
  }
 ],
 "metadata": {
  "kernelspec": {
   "display_name": "Python 3",
   "language": "python",
   "name": "python3"
  },
  "language_info": {
   "name": "python",
   "version": "3.11.7"
  }
 },
 "nbformat": 4,
 "nbformat_minor": 2
}
