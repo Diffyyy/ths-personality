{
 "cells": [
  {
   "cell_type": "markdown",
   "metadata": {},
   "source": [
    "# Ablation: Personality Hassles notebook\n"
   ]
  },
  {
   "cell_type": "markdown",
   "metadata": {},
   "source": [
    "## Section 1: Reading the dataset and data preparation"
   ]
  },
  {
   "cell_type": "code",
   "execution_count": 1,
   "metadata": {},
   "outputs": [],
   "source": [
    "import pandas as pd\n",
    "from sklearn.preprocessing import LabelEncoder\n",
    "from sklearn.preprocessing import MinMaxScaler\n",
    "from scaler import CustomScaler"
   ]
  },
  {
   "cell_type": "code",
   "execution_count": 2,
   "metadata": {},
   "outputs": [],
   "source": [
    "# filenames = ['General_hassles', 'Inner_concerns', 'Financial_concerns', 'Time_Pressures', 'Environmental_Hassles', 'Family_Hassles', 'Health_Hassles', 'Academic_Hassles']\n",
    "\n",
    "# filenames = ['General_hassles', 'Inner_concerns', 'Financial_concerns', 'Time_Pressures']\n",
    "# filenames = ['Environmental_Hassles', 'Family_Hassles', 'Health_Hassles', 'Academic_Hassles']\n",
    "\n",
    "# filenames = ['General_hassles', 'Inner_concerns']\n",
    "# filenames = ['Financial_concerns', 'Time_Pressures']\n",
    "# filenames = ['Environmental_Hassles', 'Family_Hassles']\n",
    "filenames = ['Health_Hassles', 'Academic_Hassles']\n",
    "\n",
    "# filenames = ['Inner_concerns', 'Time_Pressures', 'Health_Hassles', 'Academic_Hassles']\n",
    "extension = '.csv'\n",
    "dfs = {}\n",
    "test_dfs = {}\n",
    "for filename in filenames:\n",
    "    df = pd.read_csv(f'../data/category/{filename}.csv')\n",
    "    df = df.sample(frac = 1, random_state = 42)\n",
    "\n",
    "    df['Hassle'] = LabelEncoder().fit_transform(df['Hassle'])\n",
    "\n",
    "    # scaler_O = MinMaxScaler(feature_range=(10, 50))\n",
    "    # scaler_C = MinMaxScaler(feature_range=(9, 45))\n",
    "    # scaler_E = MinMaxScaler(feature_range=(8, 40))\n",
    "    # scaler_A = MinMaxScaler(feature_range=(9, 45))\n",
    "    # scaler_N = MinMaxScaler(feature_range=(8, 40))\n",
    "\n",
    "    # # Fit and transform specific columns\n",
    "    # df['O'] = scaler_O.fit_transform(df[['O']])\n",
    "    # df['C'] = scaler_C.fit_transform(df[['C']])\n",
    "    # df['E'] = scaler_E.fit_transform(df[['E']])\n",
    "    # df['A'] = scaler_A.fit_transform(df[['A']])\n",
    "    # df['N'] = scaler_N.fit_transform(df[['N']])\n",
    "    \n",
    "    #drop age and gender for now\n",
    "    df.drop(columns = ['Age', 'Gender'], inplace = True)\n",
    "\n",
    "    dfs[filename] = df"
   ]
  },
  {
   "cell_type": "markdown",
   "metadata": {},
   "source": [
    "## Section 2: Column Transformer"
   ]
  },
  {
   "cell_type": "code",
   "execution_count": 3,
   "metadata": {},
   "outputs": [],
   "source": [
    "from sklearn.compose import ColumnTransformer"
   ]
  },
  {
   "cell_type": "markdown",
   "metadata": {},
   "source": [
    "### 2.1 Scaler"
   ]
  },
  {
   "cell_type": "code",
   "execution_count": 4,
   "metadata": {},
   "outputs": [],
   "source": [
    "ct1 = ColumnTransformer(\n",
    "    [\n",
    "        ('oScaler', CustomScaler(data_range = [10, 50]), ['O']),\n",
    "        ('cScaler', CustomScaler(data_range = [9, 45]), ['C']),\n",
    "        ('eScaler', CustomScaler(data_range = [8, 40]), ['E']),\n",
    "        ('aScaler', CustomScaler(data_range = [9, 45]), ['A']),\n",
    "        ('nScaler', CustomScaler(data_range = [8, 40]), ['N']),\n",
    "    ],\n",
    ")"
   ]
  },
  {
   "cell_type": "code",
   "execution_count": 5,
   "metadata": {},
   "outputs": [],
   "source": [
    "# This function dynamically creates a columnt ransformer object and sets in on the piepline\n",
    "\n",
    "# Takes in the array of columns and pipe\n",
    "def create_column_transformer(cols, pipe):\n",
    "    scaler_list = []\n",
    "    for col in cols:\n",
    "        if(col == 'O'):\n",
    "            scaler = ('oScaler', CustomScaler(data_range = [10, 50]), ['O'])\n",
    "        elif(col == 'C'):\n",
    "            scaler = ('cScaler', CustomScaler(data_range = [9, 45]), ['C'])\n",
    "        elif(col == 'E'):\n",
    "            scaler = ('eScaler', CustomScaler(data_range = [8, 40]), ['E'])\n",
    "        elif(col == 'A'):\n",
    "            scaler = ('aScaler', CustomScaler(data_range = [9, 45]), ['A'])\n",
    "        elif(col == 'N'):\n",
    "            scaler = ('nScaler', CustomScaler(data_range = [8, 40]), ['N'])\n",
    "        else:\n",
    "            return ValueError;\n",
    "        scaler_list.append(scaler)\n",
    "    \n",
    "    ct = ColumnTransformer(transformers = scaler_list)\n",
    "\n",
    "    pipe.steps[0] = ('transformer', ct)"
   ]
  },
  {
   "cell_type": "markdown",
   "metadata": {},
   "source": [
    "### 2.2 Encoder"
   ]
  },
  {
   "cell_type": "code",
   "execution_count": 6,
   "metadata": {},
   "outputs": [],
   "source": [
    "ct2 = ColumnTransformer(\n",
    "    [\n",
    "        ('encoder', LabelEncoder(), ['Hassle'])\n",
    "    ]\n",
    ")"
   ]
  },
  {
   "cell_type": "markdown",
   "metadata": {},
   "source": [
    "## Section 3: Model and Hyperparameters Initialization"
   ]
  },
  {
   "cell_type": "markdown",
   "metadata": {},
   "source": [
    "### 3.1 Model Initialization"
   ]
  },
  {
   "cell_type": "code",
   "execution_count": 7,
   "metadata": {},
   "outputs": [],
   "source": [
    "from sklearn.linear_model import LinearRegression, Ridge, Lasso, ElasticNet\n",
    "from sklearn.svm import SVR, NuSVR, LinearSVR\n",
    "from sklearn.tree import DecisionTreeRegressor\n",
    "from sklearn.ensemble import RandomForestRegressor, GradientBoostingRegressor, VotingRegressor, BaggingRegressor, AdaBoostRegressor\n",
    "from sklearn.neural_network import MLPRegressor\n"
   ]
  },
  {
   "cell_type": "code",
   "execution_count": 8,
   "metadata": {},
   "outputs": [],
   "source": [
    "linreg = LinearRegression()\n",
    "ridge = Ridge(random_state=42)\n",
    "lasso = Lasso(random_state=42)\n",
    "elasticnet = ElasticNet(random_state=42)\n",
    "\n",
    "svr = SVR(verbose = 0)\n",
    "nusvr = NuSVR(verbose = 0)\n",
    "lsvr = LinearSVR(verbose = 0)\n",
    "\n",
    "dt = DecisionTreeRegressor(random_state=42)\n",
    "\n",
    "rfr = RandomForestRegressor( random_state = 42)\n",
    "gbr = GradientBoostingRegressor( random_state = 42)\n",
    "vr = VotingRegressor(estimators = RandomForestRegressor(random_state = 42))\n",
    "br = BaggingRegressor( random_state = 42)\n",
    "abr = AdaBoostRegressor(random_state = 42)\n",
    "\n",
    "nn = MLPRegressor(random_state = 42, verbose = 0)\n"
   ]
  },
  {
   "cell_type": "markdown",
   "metadata": {},
   "source": [
    "### 3.2 Pipleline initialization"
   ]
  },
  {
   "cell_type": "code",
   "execution_count": 9,
   "metadata": {},
   "outputs": [],
   "source": [
    "from sklearn.pipeline import Pipeline"
   ]
  },
  {
   "cell_type": "code",
   "execution_count": 10,
   "metadata": {},
   "outputs": [],
   "source": [
    "pipe = Pipeline([('preprocessor1', ct1), ('regressor', linreg)])"
   ]
  },
  {
   "cell_type": "markdown",
   "metadata": {},
   "source": [
    "### 3.3 Hyperparams Initialization"
   ]
  },
  {
   "cell_type": "code",
   "execution_count": 11,
   "metadata": {},
   "outputs": [],
   "source": [
    "hyperparameters = [\n",
    "    # {\n",
    "    #     'regressor': [linreg]\n",
    "    # },\n",
    "    # {\n",
    "    #     'regressor__alpha': [0, 0.5, 1, 2],\n",
    "    #     'regressor__solver': ['auto', 'svd', 'cholesky', 'lsqr', 'sparse_cg', 'sag', 'saga'],\n",
    "    #     'regressor__tol': [0.0001, 0.00001, 0.001],\n",
    "    #     'regressor': [ridge]\n",
    "    # },\n",
    "    # {\n",
    "    #     'regressor__alpha': [0, 0.5, 1, 2],\n",
    "    #     'regressor__tol': [0.0001, 0.00001, 0.001],\n",
    "    #     'regressor__selection': ['cyclic', 'random'],\n",
    "    #     'regressor': [lasso]\n",
    "    # },\n",
    "    # {\n",
    "    #     'regressor__alpha': [0, 0.5, 1, 2],\n",
    "    #     'regressor__l1_ratio': [0.5, 0.05, 0.005],\n",
    "    #     'regressor__tol': [0.0001, 0.00001, 0.001],\n",
    "    #     'regressor__selection': ['cyclic', 'random'],\n",
    "    #     'regressor': [elasticnet]\n",
    "    # },\n",
    "    # {\n",
    "    #     'regressor__criterion': ['squared_error', 'poisson', 'friedman_mse', 'absolute_error'],\n",
    "    #     'regressor__splitter': ['best'],\n",
    "    #     'regressor__max_depth': [4, 8, 12],\n",
    "    #     'regressor__min_samples_split': [4, 8, 12],\n",
    "    #     'regressor': [dt]\n",
    "    # },\n",
    "    {\n",
    "        'regressor__n_estimators': [10, 15, 20, 25],\n",
    "        'regressor__criterion': ['mse', 'mae', 'friedman_mse', 'poisson'],\n",
    "        'regressor__max_depth': [4, 5, 8, 10],\n",
    "        'regressor__min_samples_split': [2, 3, 4, 5, 8, 10, 12],\n",
    "        'regressor__min_impurity_decrease': [0.001, 0.01, 0.1, 0.5, 1],\n",
    "        'regressor__max_leaf_nodes': [3, 5, 10, 20, 50, 100],\n",
    "        'regressor__bootstrap': [True, False],\n",
    "        'regressor': [rfr]\n",
    "    },\n",
    "    {\n",
    "        'regressor__n_estimators': [10, 15, 20, 25],\n",
    "        'regressor__max_depth': [3, 4, 5, 8, 10],\n",
    "        'regressor__min_samples_split': [4, 8, 12],\n",
    "        'regressor__learning_rate': [1.0, 0.1, 0.01, 0.5],\n",
    "        'regressor__max_depth': [3, 5, 10],\n",
    "        'regressor__loss': ['ls', 'lad', 'huber', 'quantile'],\n",
    "        'regressor': [gbr]\n",
    "    },\n",
    "    # {\n",
    "    #     'regressor__base_estimator': [\n",
    "    #         DecisionTreeRegressor(random_state = 42, max_depth = 8), \n",
    "    #         DecisionTreeRegressor(random_state = 42, max_depth = 12), \n",
    "    #         RandomForestRegressor(random_state = 42,  n_estimators = 8),\n",
    "    #         RandomForestRegressor(random_state = 42,  n_estimators = 12),\n",
    "    #         ],\n",
    "    #     'regressor__n_estimators': [10, 20, 5],\n",
    "    #     'regressor__bootstrap': [True, False],\n",
    "    #     'regressor': [br]\n",
    "    # },\n",
    "    # {\n",
    "    #     'regressor__base_estimator': [\n",
    "    #         DecisionTreeRegressor(random_state = 42, max_depth = 8), \n",
    "    #         DecisionTreeRegressor(random_state = 42, max_depth = 12), \n",
    "    #         RandomForestRegressor(random_state = 42, n_estimators = 8), \n",
    "    #         RandomForestRegressor(random_state = 42, n_estimators = 12), \n",
    "    #         ],\n",
    "    #     'regressor__n_estimators': [25, 50, 75],\n",
    "    #     'regressor__learning_rate': [1.0, 0.1, 0.05],\n",
    "    #     'regressor__loss': ['linear', 'square', 'exponential'],\n",
    "    #     'regressor': [abr]\n",
    "    # },\n",
    "    # {\n",
    "    #     'regressor__hidden_layer_sizes' : [(20, 20, 20, 20, 20), (15, 15, 15, 15, 15, 15, 15), (10, 10, 10, 10, 10, 10, 10, 10, 10, 10)],\n",
    "    #     'regressor__alpha': [0.0001, 0.001, 0.00001],\n",
    "    #     'regressor__learning_rate_init' : [0.0001, 0.001, 0.01],\n",
    "    #     'regressor__learning_rate': ['constant', 'invscaling', 'adaptive'],\n",
    "    #     'regressor__solver' : ['adam', 'sgd', 'lbfgs'],\n",
    "    #     'regressor__activation' : ['relu', 'tanh'],\n",
    "    #     'regressor': [nn]\n",
    "    # },\n",
    "\n",
    "]\n"
   ]
  },
  {
   "cell_type": "markdown",
   "metadata": {},
   "source": [
    "## Section 4: Model Training and Prediction\n",
    "\n",
    "PIPELINE: Iterate through each df -> Iterate through each possible combination of OCEAN -> initialize a grid search -> train models -> get predictions -> store subset, r2 scores and best model in an array -> after each iteration of df -> get the highest r2 value in the array"
   ]
  },
  {
   "cell_type": "code",
   "execution_count": 12,
   "metadata": {},
   "outputs": [],
   "source": [
    "from sklearn.model_selection import GridSearchCV\n",
    "from sklearn.model_selection import train_test_split\n",
    "from pathlib import Path\n",
    "import joblib\n",
    "from sklearn.metrics import r2_score\n",
    "from sklearn.metrics import mean_absolute_percentage_error\n",
    "import itertools"
   ]
  },
  {
   "cell_type": "code",
   "execution_count": 13,
   "metadata": {},
   "outputs": [],
   "source": [
    "# Ignore warnings\n",
    "import warnings\n",
    "warnings.filterwarnings(\"ignore\")"
   ]
  },
  {
   "cell_type": "code",
   "execution_count": 14,
   "metadata": {},
   "outputs": [
    {
     "name": "stdout",
     "output_type": "stream",
     "text": [
      "Current selected features:  ['O']\n"
     ]
    },
    {
     "name": "stdout",
     "output_type": "stream",
     "text": [
      "Current selected features:  ['C']\n",
      "Current selected features:  ['E']\n",
      "Current selected features:  ['A']\n",
      "Current selected features:  ['N']\n",
      "Current selected features:  ['O', 'C']\n",
      "Current selected features:  ['O', 'E']\n",
      "Current selected features:  ['O', 'A']\n",
      "Current selected features:  ['O', 'N']\n",
      "Current selected features:  ['C', 'E']\n",
      "Current selected features:  ['C', 'A']\n",
      "Current selected features:  ['C', 'N']\n",
      "Current selected features:  ['E', 'A']\n",
      "Current selected features:  ['E', 'N']\n",
      "Current selected features:  ['A', 'N']\n",
      "Current selected features:  ['O', 'C', 'E']\n",
      "Current selected features:  ['O', 'C', 'A']\n",
      "Current selected features:  ['O', 'C', 'N']\n",
      "Current selected features:  ['O', 'E', 'A']\n",
      "Current selected features:  ['O', 'E', 'N']\n",
      "Current selected features:  ['O', 'A', 'N']\n",
      "Current selected features:  ['C', 'E', 'A']\n",
      "Current selected features:  ['C', 'E', 'N']\n",
      "Current selected features:  ['C', 'A', 'N']\n",
      "Current selected features:  ['E', 'A', 'N']\n",
      "Current selected features:  ['O', 'C', 'E', 'A']\n",
      "Current selected features:  ['O', 'C', 'E', 'N']\n",
      "Current selected features:  ['O', 'C', 'A', 'N']\n",
      "Current selected features:  ['O', 'E', 'A', 'N']\n",
      "Current selected features:  ['C', 'E', 'A', 'N']\n",
      "Current selected features:  ['O', 'C', 'E', 'A', 'N']\n",
      "Health_Hassles\n",
      "Subset:  ('E', 'A', 'N')\n",
      "R2 score:  0.4982831971776879\n"
     ]
    },
    {
     "data": {
      "text/html": [
       "<style>#sk-container-id-1 {color: black;}#sk-container-id-1 pre{padding: 0;}#sk-container-id-1 div.sk-toggleable {background-color: white;}#sk-container-id-1 label.sk-toggleable__label {cursor: pointer;display: block;width: 100%;margin-bottom: 0;padding: 0.3em;box-sizing: border-box;text-align: center;}#sk-container-id-1 label.sk-toggleable__label-arrow:before {content: \"▸\";float: left;margin-right: 0.25em;color: #696969;}#sk-container-id-1 label.sk-toggleable__label-arrow:hover:before {color: black;}#sk-container-id-1 div.sk-estimator:hover label.sk-toggleable__label-arrow:before {color: black;}#sk-container-id-1 div.sk-toggleable__content {max-height: 0;max-width: 0;overflow: hidden;text-align: left;background-color: #f0f8ff;}#sk-container-id-1 div.sk-toggleable__content pre {margin: 0.2em;color: black;border-radius: 0.25em;background-color: #f0f8ff;}#sk-container-id-1 input.sk-toggleable__control:checked~div.sk-toggleable__content {max-height: 200px;max-width: 100%;overflow: auto;}#sk-container-id-1 input.sk-toggleable__control:checked~label.sk-toggleable__label-arrow:before {content: \"▾\";}#sk-container-id-1 div.sk-estimator input.sk-toggleable__control:checked~label.sk-toggleable__label {background-color: #d4ebff;}#sk-container-id-1 div.sk-label input.sk-toggleable__control:checked~label.sk-toggleable__label {background-color: #d4ebff;}#sk-container-id-1 input.sk-hidden--visually {border: 0;clip: rect(1px 1px 1px 1px);clip: rect(1px, 1px, 1px, 1px);height: 1px;margin: -1px;overflow: hidden;padding: 0;position: absolute;width: 1px;}#sk-container-id-1 div.sk-estimator {font-family: monospace;background-color: #f0f8ff;border: 1px dotted black;border-radius: 0.25em;box-sizing: border-box;margin-bottom: 0.5em;}#sk-container-id-1 div.sk-estimator:hover {background-color: #d4ebff;}#sk-container-id-1 div.sk-parallel-item::after {content: \"\";width: 100%;border-bottom: 1px solid gray;flex-grow: 1;}#sk-container-id-1 div.sk-label:hover label.sk-toggleable__label {background-color: #d4ebff;}#sk-container-id-1 div.sk-serial::before {content: \"\";position: absolute;border-left: 1px solid gray;box-sizing: border-box;top: 0;bottom: 0;left: 50%;z-index: 0;}#sk-container-id-1 div.sk-serial {display: flex;flex-direction: column;align-items: center;background-color: white;padding-right: 0.2em;padding-left: 0.2em;position: relative;}#sk-container-id-1 div.sk-item {position: relative;z-index: 1;}#sk-container-id-1 div.sk-parallel {display: flex;align-items: stretch;justify-content: center;background-color: white;position: relative;}#sk-container-id-1 div.sk-item::before, #sk-container-id-1 div.sk-parallel-item::before {content: \"\";position: absolute;border-left: 1px solid gray;box-sizing: border-box;top: 0;bottom: 0;left: 50%;z-index: -1;}#sk-container-id-1 div.sk-parallel-item {display: flex;flex-direction: column;z-index: 1;position: relative;background-color: white;}#sk-container-id-1 div.sk-parallel-item:first-child::after {align-self: flex-end;width: 50%;}#sk-container-id-1 div.sk-parallel-item:last-child::after {align-self: flex-start;width: 50%;}#sk-container-id-1 div.sk-parallel-item:only-child::after {width: 0;}#sk-container-id-1 div.sk-dashed-wrapped {border: 1px dashed gray;margin: 0 0.4em 0.5em 0.4em;box-sizing: border-box;padding-bottom: 0.4em;background-color: white;}#sk-container-id-1 div.sk-label label {font-family: monospace;font-weight: bold;display: inline-block;line-height: 1.2em;}#sk-container-id-1 div.sk-label-container {text-align: center;}#sk-container-id-1 div.sk-container {/* jupyter's `normalize.less` sets `[hidden] { display: none; }` but bootstrap.min.css set `[hidden] { display: none !important; }` so we also need the `!important` here to be able to override the default hidden behavior on the sphinx rendered scikit-learn.org. See: https://github.com/scikit-learn/scikit-learn/issues/21755 */display: inline-block !important;position: relative;}#sk-container-id-1 div.sk-text-repr-fallback {display: none;}</style><div id=\"sk-container-id-1\" class=\"sk-top-container\"><div class=\"sk-text-repr-fallback\"><pre>Pipeline(steps=[(&#x27;transformer&#x27;,\n",
       "                 ColumnTransformer(transformers=[(&#x27;eScaler&#x27;,\n",
       "                                                  CustomScaler(data_range=[8,\n",
       "                                                                           40]),\n",
       "                                                  [&#x27;E&#x27;]),\n",
       "                                                 (&#x27;aScaler&#x27;,\n",
       "                                                  CustomScaler(data_range=[9,\n",
       "                                                                           45]),\n",
       "                                                  [&#x27;A&#x27;]),\n",
       "                                                 (&#x27;nScaler&#x27;,\n",
       "                                                  CustomScaler(data_range=[8,\n",
       "                                                                           40]),\n",
       "                                                  [&#x27;N&#x27;])])),\n",
       "                (&#x27;regressor&#x27;,\n",
       "                 RandomForestRegressor(criterion=&#x27;friedman_mse&#x27;, max_depth=10,\n",
       "                                       max_leaf_nodes=50,\n",
       "                                       min_impurity_decrease=0.01,\n",
       "                                       n_estimators=15, random_state=42))])</pre><b>In a Jupyter environment, please rerun this cell to show the HTML representation or trust the notebook. <br />On GitHub, the HTML representation is unable to render, please try loading this page with nbviewer.org.</b></div><div class=\"sk-container\" hidden><div class=\"sk-item sk-dashed-wrapped\"><div class=\"sk-label-container\"><div class=\"sk-label sk-toggleable\"><input class=\"sk-toggleable__control sk-hidden--visually\" id=\"sk-estimator-id-1\" type=\"checkbox\" ><label for=\"sk-estimator-id-1\" class=\"sk-toggleable__label sk-toggleable__label-arrow\">Pipeline</label><div class=\"sk-toggleable__content\"><pre>Pipeline(steps=[(&#x27;transformer&#x27;,\n",
       "                 ColumnTransformer(transformers=[(&#x27;eScaler&#x27;,\n",
       "                                                  CustomScaler(data_range=[8,\n",
       "                                                                           40]),\n",
       "                                                  [&#x27;E&#x27;]),\n",
       "                                                 (&#x27;aScaler&#x27;,\n",
       "                                                  CustomScaler(data_range=[9,\n",
       "                                                                           45]),\n",
       "                                                  [&#x27;A&#x27;]),\n",
       "                                                 (&#x27;nScaler&#x27;,\n",
       "                                                  CustomScaler(data_range=[8,\n",
       "                                                                           40]),\n",
       "                                                  [&#x27;N&#x27;])])),\n",
       "                (&#x27;regressor&#x27;,\n",
       "                 RandomForestRegressor(criterion=&#x27;friedman_mse&#x27;, max_depth=10,\n",
       "                                       max_leaf_nodes=50,\n",
       "                                       min_impurity_decrease=0.01,\n",
       "                                       n_estimators=15, random_state=42))])</pre></div></div></div><div class=\"sk-serial\"><div class=\"sk-item sk-dashed-wrapped\"><div class=\"sk-label-container\"><div class=\"sk-label sk-toggleable\"><input class=\"sk-toggleable__control sk-hidden--visually\" id=\"sk-estimator-id-2\" type=\"checkbox\" ><label for=\"sk-estimator-id-2\" class=\"sk-toggleable__label sk-toggleable__label-arrow\">transformer: ColumnTransformer</label><div class=\"sk-toggleable__content\"><pre>ColumnTransformer(transformers=[(&#x27;eScaler&#x27;, CustomScaler(data_range=[8, 40]),\n",
       "                                 [&#x27;E&#x27;]),\n",
       "                                (&#x27;aScaler&#x27;, CustomScaler(data_range=[9, 45]),\n",
       "                                 [&#x27;A&#x27;]),\n",
       "                                (&#x27;nScaler&#x27;, CustomScaler(data_range=[8, 40]),\n",
       "                                 [&#x27;N&#x27;])])</pre></div></div></div><div class=\"sk-parallel\"><div class=\"sk-parallel-item\"><div class=\"sk-item\"><div class=\"sk-label-container\"><div class=\"sk-label sk-toggleable\"><input class=\"sk-toggleable__control sk-hidden--visually\" id=\"sk-estimator-id-3\" type=\"checkbox\" ><label for=\"sk-estimator-id-3\" class=\"sk-toggleable__label sk-toggleable__label-arrow\">eScaler</label><div class=\"sk-toggleable__content\"><pre>[&#x27;E&#x27;]</pre></div></div></div><div class=\"sk-serial\"><div class=\"sk-item\"><div class=\"sk-estimator sk-toggleable\"><input class=\"sk-toggleable__control sk-hidden--visually\" id=\"sk-estimator-id-4\" type=\"checkbox\" ><label for=\"sk-estimator-id-4\" class=\"sk-toggleable__label sk-toggleable__label-arrow\">CustomScaler</label><div class=\"sk-toggleable__content\"><pre>CustomScaler(data_range=[8, 40])</pre></div></div></div></div></div></div><div class=\"sk-parallel-item\"><div class=\"sk-item\"><div class=\"sk-label-container\"><div class=\"sk-label sk-toggleable\"><input class=\"sk-toggleable__control sk-hidden--visually\" id=\"sk-estimator-id-5\" type=\"checkbox\" ><label for=\"sk-estimator-id-5\" class=\"sk-toggleable__label sk-toggleable__label-arrow\">aScaler</label><div class=\"sk-toggleable__content\"><pre>[&#x27;A&#x27;]</pre></div></div></div><div class=\"sk-serial\"><div class=\"sk-item\"><div class=\"sk-estimator sk-toggleable\"><input class=\"sk-toggleable__control sk-hidden--visually\" id=\"sk-estimator-id-6\" type=\"checkbox\" ><label for=\"sk-estimator-id-6\" class=\"sk-toggleable__label sk-toggleable__label-arrow\">CustomScaler</label><div class=\"sk-toggleable__content\"><pre>CustomScaler(data_range=[9, 45])</pre></div></div></div></div></div></div><div class=\"sk-parallel-item\"><div class=\"sk-item\"><div class=\"sk-label-container\"><div class=\"sk-label sk-toggleable\"><input class=\"sk-toggleable__control sk-hidden--visually\" id=\"sk-estimator-id-7\" type=\"checkbox\" ><label for=\"sk-estimator-id-7\" class=\"sk-toggleable__label sk-toggleable__label-arrow\">nScaler</label><div class=\"sk-toggleable__content\"><pre>[&#x27;N&#x27;]</pre></div></div></div><div class=\"sk-serial\"><div class=\"sk-item\"><div class=\"sk-estimator sk-toggleable\"><input class=\"sk-toggleable__control sk-hidden--visually\" id=\"sk-estimator-id-8\" type=\"checkbox\" ><label for=\"sk-estimator-id-8\" class=\"sk-toggleable__label sk-toggleable__label-arrow\">CustomScaler</label><div class=\"sk-toggleable__content\"><pre>CustomScaler(data_range=[8, 40])</pre></div></div></div></div></div></div></div></div><div class=\"sk-item\"><div class=\"sk-estimator sk-toggleable\"><input class=\"sk-toggleable__control sk-hidden--visually\" id=\"sk-estimator-id-9\" type=\"checkbox\" ><label for=\"sk-estimator-id-9\" class=\"sk-toggleable__label sk-toggleable__label-arrow\">RandomForestRegressor</label><div class=\"sk-toggleable__content\"><pre>RandomForestRegressor(criterion=&#x27;friedman_mse&#x27;, max_depth=10, max_leaf_nodes=50,\n",
       "                      min_impurity_decrease=0.01, n_estimators=15,\n",
       "                      random_state=42)</pre></div></div></div></div></div></div></div>"
      ],
      "text/plain": [
       "Pipeline(steps=[('transformer',\n",
       "                 ColumnTransformer(transformers=[('eScaler',\n",
       "                                                  CustomScaler(data_range=[8,\n",
       "                                                                           40]),\n",
       "                                                  ['E']),\n",
       "                                                 ('aScaler',\n",
       "                                                  CustomScaler(data_range=[9,\n",
       "                                                                           45]),\n",
       "                                                  ['A']),\n",
       "                                                 ('nScaler',\n",
       "                                                  CustomScaler(data_range=[8,\n",
       "                                                                           40]),\n",
       "                                                  ['N'])])),\n",
       "                ('regressor',\n",
       "                 RandomForestRegressor(criterion='friedman_mse', max_depth=10,\n",
       "                                       max_leaf_nodes=50,\n",
       "                                       min_impurity_decrease=0.01,\n",
       "                                       n_estimators=15, random_state=42))])"
      ]
     },
     "metadata": {},
     "output_type": "display_data"
    },
    {
     "name": "stdout",
     "output_type": "stream",
     "text": [
      "Current selected features:  ['O']\n",
      "Current selected features:  ['C']\n",
      "Current selected features:  ['E']\n",
      "Current selected features:  ['A']\n",
      "Current selected features:  ['N']\n",
      "Current selected features:  ['O', 'C']\n",
      "Current selected features:  ['O', 'E']\n",
      "Current selected features:  ['O', 'A']\n",
      "Current selected features:  ['O', 'N']\n",
      "Current selected features:  ['C', 'E']\n",
      "Current selected features:  ['C', 'A']\n",
      "Current selected features:  ['C', 'N']\n",
      "Current selected features:  ['E', 'A']\n",
      "Current selected features:  ['E', 'N']\n",
      "Current selected features:  ['A', 'N']\n",
      "Current selected features:  ['O', 'C', 'E']\n",
      "Current selected features:  ['O', 'C', 'A']\n",
      "Current selected features:  ['O', 'C', 'N']\n",
      "Current selected features:  ['O', 'E', 'A']\n"
     ]
    }
   ],
   "source": [
    "for df_name, df in dfs.items():\n",
    "    # Trying ablation study for General hassles\n",
    "    feature_columns = df.columns[:-2]\n",
    "\n",
    "    # Initialize a subset, r2 scores and models array\n",
    "    subsets = []\n",
    "    r2scores = []\n",
    "    models = []\n",
    "    params = []\n",
    "\n",
    "\n",
    "    # Iterate through each possible subset\n",
    "    for L in range(1, len(feature_columns) + 1):\n",
    "        for subset in itertools.combinations(feature_columns, L):\n",
    "            selected_features = list(subset)\n",
    "            print(\"Current selected features: \", selected_features)\n",
    "            # Initialize X and y\n",
    "            X = df[selected_features]\n",
    "            X['Hassle'] = df['Hassle']\n",
    "            y = df.iloc[:, -1]\n",
    "\n",
    "            # # Train test split\n",
    "            # X_train, X_test, y_train, y_test = train_test_split(X, y, test_size=0.2, random_state=42)\n",
    "\n",
    "\n",
    "            # Change the columns in column transformer\n",
    "            create_column_transformer(subset, pipe)\n",
    "\n",
    "            # Iterate through each model and the hyperparams\n",
    "            grid = GridSearchCV(pipe, hyperparameters, n_jobs= -1, scoring = 'r2')\n",
    "            grid.fit(X, y)\n",
    "            # grid.best_params_\n",
    "\n",
    "            # Get best model and hyperparams\n",
    "            best_model = grid.best_estimator_\n",
    "            best_params = grid.best_params_\n",
    "            best_r2 = grid.best_score_\n",
    "\n",
    "            # # Make predictions\n",
    "            # y_pred = best_model.predict(X_test)\n",
    "\n",
    "            # # Get r2 score\n",
    "            # r2 = r2_score(y_test, y_pred)\n",
    "\n",
    "            #Save subsets, r2score, params and model\n",
    "            subsets.append(subset)\n",
    "            r2scores.append(best_r2)\n",
    "            params.append(best_params)\n",
    "            models.append(best_model)\n",
    "\n",
    "    # Get the index of the highest r2 score on the current dataset\n",
    "    highest_r2_index = r2scores.index(max(r2scores))\n",
    "    highest_r2_score = r2scores[highest_r2_index]\n",
    "\n",
    "    # Get the corresponding subset, params and model\n",
    "    corr_subset = subsets[highest_r2_index]\n",
    "    corr_params = params[highest_r2_index]\n",
    "    corr_model = models[highest_r2_index]\n",
    "\n",
    "    # Show the results\n",
    "    print(df_name)\n",
    "    print(\"Subset: \", corr_subset)\n",
    "    print(\"R2 score: \", highest_r2_score)\n",
    "    display(corr_model)\n",
    "\n",
    "    # Define directory where params and model will be saved\n",
    "    params_directory = Path('models/specs/')\n",
    "    model_directory = Path('models/model/')\n",
    "\n",
    "    # Get model name\n",
    "    name = type(corr_model).__name__\n",
    "\n",
    "    # Generate file\n",
    "    params_file = params_directory / f\"{df_name}_{name}_hyperparams.pkl\"\n",
    "    model_file = model_directory / f\"{df_name}_{name}_model.pkl\"\n",
    "\n",
    "    # Save hyperparams\n",
    "    with open(params_file, 'wb') as f:\n",
    "        joblib.dump(corr_params, f)\n",
    "\n",
    "    # Save Model\n",
    "    with open(model_file, 'wb') as f:\n",
    "        joblib.dump(corr_model, f)\n",
    "\n"
   ]
  },
  {
   "cell_type": "code",
   "execution_count": null,
   "metadata": {},
   "outputs": [
    {
     "data": {
      "text/plain": [
       "[0.043243214142604146,\n",
       " 0.13356690618467865,\n",
       " 0.09200457689284476,\n",
       " 0.1533391456555972,\n",
       " -0.017701471109797185,\n",
       " 0.45806709390057143,\n",
       " 0.3879666056977462,\n",
       " 0.3521048409810611,\n",
       " 0.4595099554006395,\n",
       " 0.49173861074195946,\n",
       " 0.4611742131698608,\n",
       " 0.42204884673287923,\n",
       " 0.3837485674692612,\n",
       " 0.42561623780694635,\n",
       " 0.3676156504721241,\n",
       " 0.4692513638556754,\n",
       " 0.46972782920652867,\n",
       " 0.46974509626902733,\n",
       " 0.4517324260793383,\n",
       " 0.4741569821636479,\n",
       " 0.47317444038026435,\n",
       " 0.4853892639126184,\n",
       " 0.46753024738730015,\n",
       " 0.4686354244191414,\n",
       " 0.4602616059589475,\n",
       " 0.4702426234333876,\n",
       " 0.4666006508841116,\n",
       " 0.46263773676316644,\n",
       " 0.4649465751847196,\n",
       " 0.4859367292999174,\n",
       " 0.46476049100702743]"
      ]
     },
     "metadata": {},
     "output_type": "display_data"
    }
   ],
   "source": [
    "display(r2scores)"
   ]
  },
  {
   "cell_type": "code",
   "execution_count": null,
   "metadata": {},
   "outputs": [
    {
     "data": {
      "text/html": [
       "<style>#sk-container-id-6 {color: black;}#sk-container-id-6 pre{padding: 0;}#sk-container-id-6 div.sk-toggleable {background-color: white;}#sk-container-id-6 label.sk-toggleable__label {cursor: pointer;display: block;width: 100%;margin-bottom: 0;padding: 0.3em;box-sizing: border-box;text-align: center;}#sk-container-id-6 label.sk-toggleable__label-arrow:before {content: \"▸\";float: left;margin-right: 0.25em;color: #696969;}#sk-container-id-6 label.sk-toggleable__label-arrow:hover:before {color: black;}#sk-container-id-6 div.sk-estimator:hover label.sk-toggleable__label-arrow:before {color: black;}#sk-container-id-6 div.sk-toggleable__content {max-height: 0;max-width: 0;overflow: hidden;text-align: left;background-color: #f0f8ff;}#sk-container-id-6 div.sk-toggleable__content pre {margin: 0.2em;color: black;border-radius: 0.25em;background-color: #f0f8ff;}#sk-container-id-6 input.sk-toggleable__control:checked~div.sk-toggleable__content {max-height: 200px;max-width: 100%;overflow: auto;}#sk-container-id-6 input.sk-toggleable__control:checked~label.sk-toggleable__label-arrow:before {content: \"▾\";}#sk-container-id-6 div.sk-estimator input.sk-toggleable__control:checked~label.sk-toggleable__label {background-color: #d4ebff;}#sk-container-id-6 div.sk-label input.sk-toggleable__control:checked~label.sk-toggleable__label {background-color: #d4ebff;}#sk-container-id-6 input.sk-hidden--visually {border: 0;clip: rect(1px 1px 1px 1px);clip: rect(1px, 1px, 1px, 1px);height: 1px;margin: -1px;overflow: hidden;padding: 0;position: absolute;width: 1px;}#sk-container-id-6 div.sk-estimator {font-family: monospace;background-color: #f0f8ff;border: 1px dotted black;border-radius: 0.25em;box-sizing: border-box;margin-bottom: 0.5em;}#sk-container-id-6 div.sk-estimator:hover {background-color: #d4ebff;}#sk-container-id-6 div.sk-parallel-item::after {content: \"\";width: 100%;border-bottom: 1px solid gray;flex-grow: 1;}#sk-container-id-6 div.sk-label:hover label.sk-toggleable__label {background-color: #d4ebff;}#sk-container-id-6 div.sk-serial::before {content: \"\";position: absolute;border-left: 1px solid gray;box-sizing: border-box;top: 0;bottom: 0;left: 50%;z-index: 0;}#sk-container-id-6 div.sk-serial {display: flex;flex-direction: column;align-items: center;background-color: white;padding-right: 0.2em;padding-left: 0.2em;position: relative;}#sk-container-id-6 div.sk-item {position: relative;z-index: 1;}#sk-container-id-6 div.sk-parallel {display: flex;align-items: stretch;justify-content: center;background-color: white;position: relative;}#sk-container-id-6 div.sk-item::before, #sk-container-id-6 div.sk-parallel-item::before {content: \"\";position: absolute;border-left: 1px solid gray;box-sizing: border-box;top: 0;bottom: 0;left: 50%;z-index: -1;}#sk-container-id-6 div.sk-parallel-item {display: flex;flex-direction: column;z-index: 1;position: relative;background-color: white;}#sk-container-id-6 div.sk-parallel-item:first-child::after {align-self: flex-end;width: 50%;}#sk-container-id-6 div.sk-parallel-item:last-child::after {align-self: flex-start;width: 50%;}#sk-container-id-6 div.sk-parallel-item:only-child::after {width: 0;}#sk-container-id-6 div.sk-dashed-wrapped {border: 1px dashed gray;margin: 0 0.4em 0.5em 0.4em;box-sizing: border-box;padding-bottom: 0.4em;background-color: white;}#sk-container-id-6 div.sk-label label {font-family: monospace;font-weight: bold;display: inline-block;line-height: 1.2em;}#sk-container-id-6 div.sk-label-container {text-align: center;}#sk-container-id-6 div.sk-container {/* jupyter's `normalize.less` sets `[hidden] { display: none; }` but bootstrap.min.css set `[hidden] { display: none !important; }` so we also need the `!important` here to be able to override the default hidden behavior on the sphinx rendered scikit-learn.org. See: https://github.com/scikit-learn/scikit-learn/issues/21755 */display: inline-block !important;position: relative;}#sk-container-id-6 div.sk-text-repr-fallback {display: none;}</style><div id=\"sk-container-id-6\" class=\"sk-top-container\"><div class=\"sk-text-repr-fallback\"><pre>Pipeline(steps=[(&#x27;transformer&#x27;,\n",
       "                 ColumnTransformer(transformers=[(&#x27;oScaler&#x27;,\n",
       "                                                  CustomScaler(data_range=[10,\n",
       "                                                                           50]),\n",
       "                                                  [&#x27;O&#x27;]),\n",
       "                                                 (&#x27;cScaler&#x27;,\n",
       "                                                  CustomScaler(data_range=[9,\n",
       "                                                                           45]),\n",
       "                                                  [&#x27;C&#x27;]),\n",
       "                                                 (&#x27;eScaler&#x27;,\n",
       "                                                  CustomScaler(data_range=[8,\n",
       "                                                                           40]),\n",
       "                                                  [&#x27;E&#x27;]),\n",
       "                                                 (&#x27;aScaler&#x27;,\n",
       "                                                  CustomScaler(data_range=[9,\n",
       "                                                                           45]),\n",
       "                                                  [&#x27;A&#x27;])])),\n",
       "                (&#x27;regressor&#x27;,\n",
       "                 RandomForestRegressor(criterion=&#x27;poisson&#x27;, max_depth=5,\n",
       "                                       max_leaf_nodes=20,\n",
       "                                       min_impurity_decrease=0.001,\n",
       "                                       min_samples_split=8, n_estimators=15,\n",
       "                                       random_state=42))])</pre><b>In a Jupyter environment, please rerun this cell to show the HTML representation or trust the notebook. <br />On GitHub, the HTML representation is unable to render, please try loading this page with nbviewer.org.</b></div><div class=\"sk-container\" hidden><div class=\"sk-item sk-dashed-wrapped\"><div class=\"sk-label-container\"><div class=\"sk-label sk-toggleable\"><input class=\"sk-toggleable__control sk-hidden--visually\" id=\"sk-estimator-id-46\" type=\"checkbox\" ><label for=\"sk-estimator-id-46\" class=\"sk-toggleable__label sk-toggleable__label-arrow\">Pipeline</label><div class=\"sk-toggleable__content\"><pre>Pipeline(steps=[(&#x27;transformer&#x27;,\n",
       "                 ColumnTransformer(transformers=[(&#x27;oScaler&#x27;,\n",
       "                                                  CustomScaler(data_range=[10,\n",
       "                                                                           50]),\n",
       "                                                  [&#x27;O&#x27;]),\n",
       "                                                 (&#x27;cScaler&#x27;,\n",
       "                                                  CustomScaler(data_range=[9,\n",
       "                                                                           45]),\n",
       "                                                  [&#x27;C&#x27;]),\n",
       "                                                 (&#x27;eScaler&#x27;,\n",
       "                                                  CustomScaler(data_range=[8,\n",
       "                                                                           40]),\n",
       "                                                  [&#x27;E&#x27;]),\n",
       "                                                 (&#x27;aScaler&#x27;,\n",
       "                                                  CustomScaler(data_range=[9,\n",
       "                                                                           45]),\n",
       "                                                  [&#x27;A&#x27;])])),\n",
       "                (&#x27;regressor&#x27;,\n",
       "                 RandomForestRegressor(criterion=&#x27;poisson&#x27;, max_depth=5,\n",
       "                                       max_leaf_nodes=20,\n",
       "                                       min_impurity_decrease=0.001,\n",
       "                                       min_samples_split=8, n_estimators=15,\n",
       "                                       random_state=42))])</pre></div></div></div><div class=\"sk-serial\"><div class=\"sk-item sk-dashed-wrapped\"><div class=\"sk-label-container\"><div class=\"sk-label sk-toggleable\"><input class=\"sk-toggleable__control sk-hidden--visually\" id=\"sk-estimator-id-47\" type=\"checkbox\" ><label for=\"sk-estimator-id-47\" class=\"sk-toggleable__label sk-toggleable__label-arrow\">transformer: ColumnTransformer</label><div class=\"sk-toggleable__content\"><pre>ColumnTransformer(transformers=[(&#x27;oScaler&#x27;, CustomScaler(data_range=[10, 50]),\n",
       "                                 [&#x27;O&#x27;]),\n",
       "                                (&#x27;cScaler&#x27;, CustomScaler(data_range=[9, 45]),\n",
       "                                 [&#x27;C&#x27;]),\n",
       "                                (&#x27;eScaler&#x27;, CustomScaler(data_range=[8, 40]),\n",
       "                                 [&#x27;E&#x27;]),\n",
       "                                (&#x27;aScaler&#x27;, CustomScaler(data_range=[9, 45]),\n",
       "                                 [&#x27;A&#x27;])])</pre></div></div></div><div class=\"sk-parallel\"><div class=\"sk-parallel-item\"><div class=\"sk-item\"><div class=\"sk-label-container\"><div class=\"sk-label sk-toggleable\"><input class=\"sk-toggleable__control sk-hidden--visually\" id=\"sk-estimator-id-48\" type=\"checkbox\" ><label for=\"sk-estimator-id-48\" class=\"sk-toggleable__label sk-toggleable__label-arrow\">oScaler</label><div class=\"sk-toggleable__content\"><pre>[&#x27;O&#x27;]</pre></div></div></div><div class=\"sk-serial\"><div class=\"sk-item\"><div class=\"sk-estimator sk-toggleable\"><input class=\"sk-toggleable__control sk-hidden--visually\" id=\"sk-estimator-id-49\" type=\"checkbox\" ><label for=\"sk-estimator-id-49\" class=\"sk-toggleable__label sk-toggleable__label-arrow\">CustomScaler</label><div class=\"sk-toggleable__content\"><pre>CustomScaler(data_range=[10, 50])</pre></div></div></div></div></div></div><div class=\"sk-parallel-item\"><div class=\"sk-item\"><div class=\"sk-label-container\"><div class=\"sk-label sk-toggleable\"><input class=\"sk-toggleable__control sk-hidden--visually\" id=\"sk-estimator-id-50\" type=\"checkbox\" ><label for=\"sk-estimator-id-50\" class=\"sk-toggleable__label sk-toggleable__label-arrow\">cScaler</label><div class=\"sk-toggleable__content\"><pre>[&#x27;C&#x27;]</pre></div></div></div><div class=\"sk-serial\"><div class=\"sk-item\"><div class=\"sk-estimator sk-toggleable\"><input class=\"sk-toggleable__control sk-hidden--visually\" id=\"sk-estimator-id-51\" type=\"checkbox\" ><label for=\"sk-estimator-id-51\" class=\"sk-toggleable__label sk-toggleable__label-arrow\">CustomScaler</label><div class=\"sk-toggleable__content\"><pre>CustomScaler(data_range=[9, 45])</pre></div></div></div></div></div></div><div class=\"sk-parallel-item\"><div class=\"sk-item\"><div class=\"sk-label-container\"><div class=\"sk-label sk-toggleable\"><input class=\"sk-toggleable__control sk-hidden--visually\" id=\"sk-estimator-id-52\" type=\"checkbox\" ><label for=\"sk-estimator-id-52\" class=\"sk-toggleable__label sk-toggleable__label-arrow\">eScaler</label><div class=\"sk-toggleable__content\"><pre>[&#x27;E&#x27;]</pre></div></div></div><div class=\"sk-serial\"><div class=\"sk-item\"><div class=\"sk-estimator sk-toggleable\"><input class=\"sk-toggleable__control sk-hidden--visually\" id=\"sk-estimator-id-53\" type=\"checkbox\" ><label for=\"sk-estimator-id-53\" class=\"sk-toggleable__label sk-toggleable__label-arrow\">CustomScaler</label><div class=\"sk-toggleable__content\"><pre>CustomScaler(data_range=[8, 40])</pre></div></div></div></div></div></div><div class=\"sk-parallel-item\"><div class=\"sk-item\"><div class=\"sk-label-container\"><div class=\"sk-label sk-toggleable\"><input class=\"sk-toggleable__control sk-hidden--visually\" id=\"sk-estimator-id-54\" type=\"checkbox\" ><label for=\"sk-estimator-id-54\" class=\"sk-toggleable__label sk-toggleable__label-arrow\">aScaler</label><div class=\"sk-toggleable__content\"><pre>[&#x27;A&#x27;]</pre></div></div></div><div class=\"sk-serial\"><div class=\"sk-item\"><div class=\"sk-estimator sk-toggleable\"><input class=\"sk-toggleable__control sk-hidden--visually\" id=\"sk-estimator-id-55\" type=\"checkbox\" ><label for=\"sk-estimator-id-55\" class=\"sk-toggleable__label sk-toggleable__label-arrow\">CustomScaler</label><div class=\"sk-toggleable__content\"><pre>CustomScaler(data_range=[9, 45])</pre></div></div></div></div></div></div></div></div><div class=\"sk-item\"><div class=\"sk-estimator sk-toggleable\"><input class=\"sk-toggleable__control sk-hidden--visually\" id=\"sk-estimator-id-56\" type=\"checkbox\" ><label for=\"sk-estimator-id-56\" class=\"sk-toggleable__label sk-toggleable__label-arrow\">RandomForestRegressor</label><div class=\"sk-toggleable__content\"><pre>RandomForestRegressor(criterion=&#x27;poisson&#x27;, max_depth=5, max_leaf_nodes=20,\n",
       "                      min_impurity_decrease=0.001, min_samples_split=8,\n",
       "                      n_estimators=15, random_state=42)</pre></div></div></div></div></div></div></div>"
      ],
      "text/plain": [
       "Pipeline(steps=[('transformer',\n",
       "                 ColumnTransformer(transformers=[('oScaler',\n",
       "                                                  CustomScaler(data_range=[10,\n",
       "                                                                           50]),\n",
       "                                                  ['O']),\n",
       "                                                 ('cScaler',\n",
       "                                                  CustomScaler(data_range=[9,\n",
       "                                                                           45]),\n",
       "                                                  ['C']),\n",
       "                                                 ('eScaler',\n",
       "                                                  CustomScaler(data_range=[8,\n",
       "                                                                           40]),\n",
       "                                                  ['E']),\n",
       "                                                 ('aScaler',\n",
       "                                                  CustomScaler(data_range=[9,\n",
       "                                                                           45]),\n",
       "                                                  ['A'])])),\n",
       "                ('regressor',\n",
       "                 RandomForestRegressor(criterion='poisson', max_depth=5,\n",
       "                                       max_leaf_nodes=20,\n",
       "                                       min_impurity_decrease=0.001,\n",
       "                                       min_samples_split=8, n_estimators=15,\n",
       "                                       random_state=42))])"
      ]
     },
     "metadata": {},
     "output_type": "display_data"
    }
   ],
   "source": [
    "model = joblib.load('models/model/Inner_concerns_Pipeline_model.pkl')\n",
    "display(model)"
   ]
  }
 ],
 "metadata": {
  "kernelspec": {
   "display_name": "Python 3",
   "language": "python",
   "name": "python3"
  },
  "language_info": {
   "codemirror_mode": {
    "name": "ipython",
    "version": 3
   },
   "file_extension": ".py",
   "mimetype": "text/x-python",
   "name": "python",
   "nbconvert_exporter": "python",
   "pygments_lexer": "ipython3",
   "version": "3.11.7"
  }
 },
 "nbformat": 4,
 "nbformat_minor": 2
}
