{
 "cells": [
  {
   "cell_type": "markdown",
   "metadata": {},
   "source": [
    "# Personality and Hassles Model"
   ]
  },
  {
   "cell_type": "markdown",
   "metadata": {},
   "source": [
    "# Section 1: Importing of libraries and reading the dataset"
   ]
  },
  {
   "cell_type": "code",
   "execution_count": 148,
   "metadata": {},
   "outputs": [],
   "source": [
    "import pandas as pd\n",
    "import numpy as np\n",
    "import tensorflow as tf\n",
    "\n",
    "from sklearn.preprocessing import LabelEncoder, StandardScaler, MinMaxScaler\n",
    "from sklearn.model_selection import train_test_split\n",
    "from sklearn.svm import SVR\n",
    "from sklearn.metrics import mean_squared_error, r2_score\n",
    "\n",
    "from xgboost import XGBRegressor\n"
   ]
  },
  {
   "cell_type": "code",
   "execution_count": 149,
   "metadata": {},
   "outputs": [],
   "source": [
    "df = pd.read_csv('data/personality_hassles.csv')"
   ]
  },
  {
   "cell_type": "markdown",
   "metadata": {},
   "source": [
    "# Section 2: Dataset Preparation"
   ]
  },
  {
   "cell_type": "code",
   "execution_count": 150,
   "metadata": {},
   "outputs": [],
   "source": [
    "df['Gender'] = LabelEncoder().fit_transform(df['Gender'])\n",
    "df['Hassle'] = LabelEncoder().fit_transform(df['Hassle'])"
   ]
  },
  {
   "cell_type": "code",
   "execution_count": 151,
   "metadata": {},
   "outputs": [],
   "source": [
    "df['O'] = MinMaxScaler(feature_range = (10, 50)).fit_transform(df[['O']])\n",
    "df['C'] = MinMaxScaler(feature_range = (9, 45)).fit_transform(df[['C']])\n",
    "df['E'] = MinMaxScaler(feature_range = (8, 40)).fit_transform(df[['E']])\n",
    "df['A'] = MinMaxScaler(feature_range = (9, 45)).fit_transform(df[['A']])\n",
    "df['N'] = MinMaxScaler(feature_range = (8, 40)).fit_transform(df[['N']])"
   ]
  },
  {
   "cell_type": "code",
   "execution_count": 152,
   "metadata": {},
   "outputs": [],
   "source": [
    "X = df.iloc[:, :-1].values\n",
    "y = df.iloc[:, -1].values"
   ]
  },
  {
   "cell_type": "code",
   "execution_count": 153,
   "metadata": {},
   "outputs": [],
   "source": [
    "X_train, X_test, y_train, y_test = train_test_split(X, y, test_size = 0.2, random_state = 69, stratify = y)"
   ]
  },
  {
   "cell_type": "markdown",
   "metadata": {},
   "source": [
    "# Section 3: Model"
   ]
  },
  {
   "cell_type": "code",
   "execution_count": 154,
   "metadata": {},
   "outputs": [],
   "source": [
    "# svm_regressor = SVR(kernel = 'rbf')\n",
    "# svm_regressor.fit(X_train, y_train)"
   ]
  },
  {
   "cell_type": "code",
   "execution_count": 155,
   "metadata": {},
   "outputs": [
    {
     "data": {
      "text/html": [
       "<style>#sk-container-id-12 {color: black;}#sk-container-id-12 pre{padding: 0;}#sk-container-id-12 div.sk-toggleable {background-color: white;}#sk-container-id-12 label.sk-toggleable__label {cursor: pointer;display: block;width: 100%;margin-bottom: 0;padding: 0.3em;box-sizing: border-box;text-align: center;}#sk-container-id-12 label.sk-toggleable__label-arrow:before {content: \"▸\";float: left;margin-right: 0.25em;color: #696969;}#sk-container-id-12 label.sk-toggleable__label-arrow:hover:before {color: black;}#sk-container-id-12 div.sk-estimator:hover label.sk-toggleable__label-arrow:before {color: black;}#sk-container-id-12 div.sk-toggleable__content {max-height: 0;max-width: 0;overflow: hidden;text-align: left;background-color: #f0f8ff;}#sk-container-id-12 div.sk-toggleable__content pre {margin: 0.2em;color: black;border-radius: 0.25em;background-color: #f0f8ff;}#sk-container-id-12 input.sk-toggleable__control:checked~div.sk-toggleable__content {max-height: 200px;max-width: 100%;overflow: auto;}#sk-container-id-12 input.sk-toggleable__control:checked~label.sk-toggleable__label-arrow:before {content: \"▾\";}#sk-container-id-12 div.sk-estimator input.sk-toggleable__control:checked~label.sk-toggleable__label {background-color: #d4ebff;}#sk-container-id-12 div.sk-label input.sk-toggleable__control:checked~label.sk-toggleable__label {background-color: #d4ebff;}#sk-container-id-12 input.sk-hidden--visually {border: 0;clip: rect(1px 1px 1px 1px);clip: rect(1px, 1px, 1px, 1px);height: 1px;margin: -1px;overflow: hidden;padding: 0;position: absolute;width: 1px;}#sk-container-id-12 div.sk-estimator {font-family: monospace;background-color: #f0f8ff;border: 1px dotted black;border-radius: 0.25em;box-sizing: border-box;margin-bottom: 0.5em;}#sk-container-id-12 div.sk-estimator:hover {background-color: #d4ebff;}#sk-container-id-12 div.sk-parallel-item::after {content: \"\";width: 100%;border-bottom: 1px solid gray;flex-grow: 1;}#sk-container-id-12 div.sk-label:hover label.sk-toggleable__label {background-color: #d4ebff;}#sk-container-id-12 div.sk-serial::before {content: \"\";position: absolute;border-left: 1px solid gray;box-sizing: border-box;top: 0;bottom: 0;left: 50%;z-index: 0;}#sk-container-id-12 div.sk-serial {display: flex;flex-direction: column;align-items: center;background-color: white;padding-right: 0.2em;padding-left: 0.2em;position: relative;}#sk-container-id-12 div.sk-item {position: relative;z-index: 1;}#sk-container-id-12 div.sk-parallel {display: flex;align-items: stretch;justify-content: center;background-color: white;position: relative;}#sk-container-id-12 div.sk-item::before, #sk-container-id-12 div.sk-parallel-item::before {content: \"\";position: absolute;border-left: 1px solid gray;box-sizing: border-box;top: 0;bottom: 0;left: 50%;z-index: -1;}#sk-container-id-12 div.sk-parallel-item {display: flex;flex-direction: column;z-index: 1;position: relative;background-color: white;}#sk-container-id-12 div.sk-parallel-item:first-child::after {align-self: flex-end;width: 50%;}#sk-container-id-12 div.sk-parallel-item:last-child::after {align-self: flex-start;width: 50%;}#sk-container-id-12 div.sk-parallel-item:only-child::after {width: 0;}#sk-container-id-12 div.sk-dashed-wrapped {border: 1px dashed gray;margin: 0 0.4em 0.5em 0.4em;box-sizing: border-box;padding-bottom: 0.4em;background-color: white;}#sk-container-id-12 div.sk-label label {font-family: monospace;font-weight: bold;display: inline-block;line-height: 1.2em;}#sk-container-id-12 div.sk-label-container {text-align: center;}#sk-container-id-12 div.sk-container {/* jupyter's `normalize.less` sets `[hidden] { display: none; }` but bootstrap.min.css set `[hidden] { display: none !important; }` so we also need the `!important` here to be able to override the default hidden behavior on the sphinx rendered scikit-learn.org. See: https://github.com/scikit-learn/scikit-learn/issues/21755 */display: inline-block !important;position: relative;}#sk-container-id-12 div.sk-text-repr-fallback {display: none;}</style><div id=\"sk-container-id-12\" class=\"sk-top-container\"><div class=\"sk-text-repr-fallback\"><pre>XGBRegressor(base_score=None, booster=None, callbacks=None,\n",
       "             colsample_bylevel=None, colsample_bynode=None,\n",
       "             colsample_bytree=None, device=None, early_stopping_rounds=None,\n",
       "             enable_categorical=False, eval_metric=None, feature_types=None,\n",
       "             gamma=None, grow_policy=None, importance_type=None,\n",
       "             interaction_constraints=None, learning_rate=None, max_bin=None,\n",
       "             max_cat_threshold=None, max_cat_to_onehot=None,\n",
       "             max_delta_step=None, max_depth=None, max_leaves=None,\n",
       "             min_child_weight=None, missing=nan, monotone_constraints=None,\n",
       "             multi_strategy=None, n_estimators=None, n_jobs=None,\n",
       "             num_parallel_tree=None, random_state=None, ...)</pre><b>In a Jupyter environment, please rerun this cell to show the HTML representation or trust the notebook. <br />On GitHub, the HTML representation is unable to render, please try loading this page with nbviewer.org.</b></div><div class=\"sk-container\" hidden><div class=\"sk-item\"><div class=\"sk-estimator sk-toggleable\"><input class=\"sk-toggleable__control sk-hidden--visually\" id=\"sk-estimator-id-12\" type=\"checkbox\" checked><label for=\"sk-estimator-id-12\" class=\"sk-toggleable__label sk-toggleable__label-arrow\">XGBRegressor</label><div class=\"sk-toggleable__content\"><pre>XGBRegressor(base_score=None, booster=None, callbacks=None,\n",
       "             colsample_bylevel=None, colsample_bynode=None,\n",
       "             colsample_bytree=None, device=None, early_stopping_rounds=None,\n",
       "             enable_categorical=False, eval_metric=None, feature_types=None,\n",
       "             gamma=None, grow_policy=None, importance_type=None,\n",
       "             interaction_constraints=None, learning_rate=None, max_bin=None,\n",
       "             max_cat_threshold=None, max_cat_to_onehot=None,\n",
       "             max_delta_step=None, max_depth=None, max_leaves=None,\n",
       "             min_child_weight=None, missing=nan, monotone_constraints=None,\n",
       "             multi_strategy=None, n_estimators=None, n_jobs=None,\n",
       "             num_parallel_tree=None, random_state=None, ...)</pre></div></div></div></div></div>"
      ],
      "text/plain": [
       "XGBRegressor(base_score=None, booster=None, callbacks=None,\n",
       "             colsample_bylevel=None, colsample_bynode=None,\n",
       "             colsample_bytree=None, device=None, early_stopping_rounds=None,\n",
       "             enable_categorical=False, eval_metric=None, feature_types=None,\n",
       "             gamma=None, grow_policy=None, importance_type=None,\n",
       "             interaction_constraints=None, learning_rate=None, max_bin=None,\n",
       "             max_cat_threshold=None, max_cat_to_onehot=None,\n",
       "             max_delta_step=None, max_depth=None, max_leaves=None,\n",
       "             min_child_weight=None, missing=nan, monotone_constraints=None,\n",
       "             multi_strategy=None, n_estimators=None, n_jobs=None,\n",
       "             num_parallel_tree=None, random_state=None, ...)"
      ]
     },
     "execution_count": 155,
     "metadata": {},
     "output_type": "execute_result"
    }
   ],
   "source": [
    "xgb_regressor = XGBRegressor()\n",
    "xgb_regressor.fit(X_train, y_train)"
   ]
  },
  {
   "cell_type": "code",
   "execution_count": 156,
   "metadata": {},
   "outputs": [],
   "source": [
    "ann = tf.keras.models.Sequential()\n",
    "ann.add(tf.keras.layers.Dense(units = 20, activation = 'relu'))\n",
    "ann.add(tf.keras.layers.Dense(units = 20, activation = 'relu'))\n",
    "ann.add(tf.keras.layers.Dense(units = 20, activation = 'relu'))\n",
    "ann.add(tf.keras.layers.Dense(units = 20, activation = 'relu'))\n",
    "ann.add(tf.keras.layers.Dense(units = 20, activation = 'relu'))\n",
    "ann.add(tf.keras.layers.Dense(units = 20, activation = 'relu'))\n",
    "ann.add(tf.keras.layers.Dense(units = 20, activation = 'relu'))\n",
    "ann.add(tf.keras.layers.Dense(units = 20, activation = 'relu'))\n",
    "ann.add(tf.keras.layers.Dense(units = 20, activation = 'relu'))\n",
    "ann.add(tf.keras.layers.Dense(units = 20, activation = 'relu'))\n",
    "ann.add(tf.keras.layers.Dense(units = 1, activation = 'softmax'))"
   ]
  },
  {
   "cell_type": "code",
   "execution_count": 157,
   "metadata": {},
   "outputs": [
    {
     "name": "stdout",
     "output_type": "stream",
     "text": [
      "Epoch 1/100\n"
     ]
    },
    {
     "name": "stdout",
     "output_type": "stream",
     "text": [
      "WARNING:tensorflow:From c:\\Users\\patri\\AppData\\Local\\Programs\\Python\\Python311\\Lib\\site-packages\\keras\\src\\utils\\tf_utils.py:492: The name tf.ragged.RaggedTensorValue is deprecated. Please use tf.compat.v1.ragged.RaggedTensorValue instead.\n",
      "\n",
      "WARNING:tensorflow:From c:\\Users\\patri\\AppData\\Local\\Programs\\Python\\Python311\\Lib\\site-packages\\keras\\src\\engine\\base_layer_utils.py:384: The name tf.executing_eagerly_outside_functions is deprecated. Please use tf.compat.v1.executing_eagerly_outside_functions instead.\n",
      "\n",
      "37/37 [==============================] - 3s 3ms/step - loss: 5.2156 - mean_absolute_error: 1.8686\n",
      "Epoch 2/100\n",
      "37/37 [==============================] - 0s 2ms/step - loss: 5.2156 - mean_absolute_error: 1.8686\n",
      "Epoch 3/100\n",
      "37/37 [==============================] - 0s 2ms/step - loss: 5.2156 - mean_absolute_error: 1.8686\n",
      "Epoch 4/100\n",
      "37/37 [==============================] - 0s 2ms/step - loss: 5.2156 - mean_absolute_error: 1.8686\n",
      "Epoch 5/100\n",
      "37/37 [==============================] - 0s 2ms/step - loss: 5.2156 - mean_absolute_error: 1.8686\n",
      "Epoch 6/100\n",
      "37/37 [==============================] - 0s 2ms/step - loss: 5.2156 - mean_absolute_error: 1.8686\n",
      "Epoch 7/100\n",
      "37/37 [==============================] - 0s 2ms/step - loss: 5.2156 - mean_absolute_error: 1.8686\n",
      "Epoch 8/100\n",
      "37/37 [==============================] - 0s 2ms/step - loss: 5.2156 - mean_absolute_error: 1.8686\n",
      "Epoch 9/100\n",
      "37/37 [==============================] - 0s 2ms/step - loss: 5.2156 - mean_absolute_error: 1.8686\n",
      "Epoch 10/100\n",
      "37/37 [==============================] - 0s 2ms/step - loss: 5.2156 - mean_absolute_error: 1.8686\n",
      "Epoch 11/100\n",
      "37/37 [==============================] - 0s 2ms/step - loss: 5.2156 - mean_absolute_error: 1.8686\n",
      "Epoch 12/100\n",
      "37/37 [==============================] - 0s 2ms/step - loss: 5.2156 - mean_absolute_error: 1.8686\n",
      "Epoch 13/100\n",
      "37/37 [==============================] - 0s 2ms/step - loss: 5.2156 - mean_absolute_error: 1.8686\n",
      "Epoch 14/100\n",
      "37/37 [==============================] - 0s 2ms/step - loss: 5.2156 - mean_absolute_error: 1.8686\n",
      "Epoch 15/100\n",
      "37/37 [==============================] - 0s 2ms/step - loss: 5.2156 - mean_absolute_error: 1.8686\n",
      "Epoch 16/100\n",
      "37/37 [==============================] - 0s 2ms/step - loss: 5.2156 - mean_absolute_error: 1.8686\n",
      "Epoch 17/100\n",
      "37/37 [==============================] - 0s 2ms/step - loss: 5.2156 - mean_absolute_error: 1.8686\n",
      "Epoch 18/100\n",
      "37/37 [==============================] - 0s 2ms/step - loss: 5.2156 - mean_absolute_error: 1.8686\n",
      "Epoch 19/100\n",
      "37/37 [==============================] - 0s 2ms/step - loss: 5.2156 - mean_absolute_error: 1.8686\n",
      "Epoch 20/100\n",
      "37/37 [==============================] - 0s 2ms/step - loss: 5.2156 - mean_absolute_error: 1.8686\n",
      "Epoch 21/100\n",
      "37/37 [==============================] - 0s 2ms/step - loss: 5.2156 - mean_absolute_error: 1.8686\n",
      "Epoch 22/100\n",
      "37/37 [==============================] - 0s 2ms/step - loss: 5.2156 - mean_absolute_error: 1.8686\n",
      "Epoch 23/100\n",
      "37/37 [==============================] - 0s 2ms/step - loss: 5.2156 - mean_absolute_error: 1.8686\n",
      "Epoch 24/100\n",
      "37/37 [==============================] - 0s 2ms/step - loss: 5.2156 - mean_absolute_error: 1.8686\n",
      "Epoch 25/100\n",
      "37/37 [==============================] - 0s 2ms/step - loss: 5.2156 - mean_absolute_error: 1.8686\n",
      "Epoch 26/100\n",
      "37/37 [==============================] - 0s 2ms/step - loss: 5.2156 - mean_absolute_error: 1.8686\n",
      "Epoch 27/100\n",
      "37/37 [==============================] - 0s 2ms/step - loss: 5.2156 - mean_absolute_error: 1.8686\n",
      "Epoch 28/100\n",
      "37/37 [==============================] - 0s 2ms/step - loss: 5.2156 - mean_absolute_error: 1.8686\n",
      "Epoch 29/100\n",
      "37/37 [==============================] - 0s 2ms/step - loss: 5.2156 - mean_absolute_error: 1.8686\n",
      "Epoch 30/100\n",
      "37/37 [==============================] - 0s 2ms/step - loss: 5.2156 - mean_absolute_error: 1.8686\n",
      "Epoch 31/100\n",
      "37/37 [==============================] - 0s 2ms/step - loss: 5.2156 - mean_absolute_error: 1.8686\n",
      "Epoch 32/100\n",
      "37/37 [==============================] - 0s 2ms/step - loss: 5.2156 - mean_absolute_error: 1.8686\n",
      "Epoch 33/100\n",
      "37/37 [==============================] - 0s 2ms/step - loss: 5.2156 - mean_absolute_error: 1.8686\n",
      "Epoch 34/100\n",
      "37/37 [==============================] - 0s 2ms/step - loss: 5.2156 - mean_absolute_error: 1.8686\n",
      "Epoch 35/100\n",
      "37/37 [==============================] - 0s 2ms/step - loss: 5.2156 - mean_absolute_error: 1.8686\n",
      "Epoch 36/100\n",
      "37/37 [==============================] - 0s 2ms/step - loss: 5.2156 - mean_absolute_error: 1.8686\n",
      "Epoch 37/100\n",
      "37/37 [==============================] - 0s 2ms/step - loss: 5.2156 - mean_absolute_error: 1.8686\n",
      "Epoch 38/100\n",
      "37/37 [==============================] - 0s 2ms/step - loss: 5.2156 - mean_absolute_error: 1.8686\n",
      "Epoch 39/100\n",
      "37/37 [==============================] - 0s 2ms/step - loss: 5.2156 - mean_absolute_error: 1.8686\n",
      "Epoch 40/100\n",
      "37/37 [==============================] - 0s 2ms/step - loss: 5.2156 - mean_absolute_error: 1.8686\n",
      "Epoch 41/100\n",
      "37/37 [==============================] - 0s 2ms/step - loss: 5.2156 - mean_absolute_error: 1.8686\n",
      "Epoch 42/100\n",
      "37/37 [==============================] - 0s 2ms/step - loss: 5.2156 - mean_absolute_error: 1.8686\n",
      "Epoch 43/100\n",
      "37/37 [==============================] - 0s 2ms/step - loss: 5.2156 - mean_absolute_error: 1.8686\n",
      "Epoch 44/100\n",
      "37/37 [==============================] - 0s 2ms/step - loss: 5.2156 - mean_absolute_error: 1.8686\n",
      "Epoch 45/100\n",
      "37/37 [==============================] - 0s 2ms/step - loss: 5.2156 - mean_absolute_error: 1.8686\n",
      "Epoch 46/100\n",
      "37/37 [==============================] - 0s 2ms/step - loss: 5.2156 - mean_absolute_error: 1.8686\n",
      "Epoch 47/100\n",
      "37/37 [==============================] - 0s 2ms/step - loss: 5.2156 - mean_absolute_error: 1.8686\n",
      "Epoch 48/100\n",
      "37/37 [==============================] - 0s 2ms/step - loss: 5.2156 - mean_absolute_error: 1.8686\n",
      "Epoch 49/100\n",
      "37/37 [==============================] - 0s 2ms/step - loss: 5.2156 - mean_absolute_error: 1.8686\n",
      "Epoch 50/100\n",
      "37/37 [==============================] - 0s 2ms/step - loss: 5.2156 - mean_absolute_error: 1.8686\n",
      "Epoch 51/100\n",
      "37/37 [==============================] - 0s 2ms/step - loss: 5.2156 - mean_absolute_error: 1.8686\n",
      "Epoch 52/100\n",
      "37/37 [==============================] - 0s 2ms/step - loss: 5.2156 - mean_absolute_error: 1.8686\n",
      "Epoch 53/100\n",
      "37/37 [==============================] - 0s 2ms/step - loss: 5.2156 - mean_absolute_error: 1.8686\n",
      "Epoch 54/100\n",
      "37/37 [==============================] - 0s 2ms/step - loss: 5.2156 - mean_absolute_error: 1.8686\n",
      "Epoch 55/100\n",
      "37/37 [==============================] - 0s 2ms/step - loss: 5.2156 - mean_absolute_error: 1.8686\n",
      "Epoch 56/100\n",
      "37/37 [==============================] - 0s 2ms/step - loss: 5.2156 - mean_absolute_error: 1.8686\n",
      "Epoch 57/100\n",
      "37/37 [==============================] - 0s 2ms/step - loss: 5.2156 - mean_absolute_error: 1.8686\n",
      "Epoch 58/100\n",
      "37/37 [==============================] - 0s 2ms/step - loss: 5.2156 - mean_absolute_error: 1.8686\n",
      "Epoch 59/100\n",
      "37/37 [==============================] - 0s 2ms/step - loss: 5.2156 - mean_absolute_error: 1.8686\n",
      "Epoch 60/100\n",
      "37/37 [==============================] - 0s 2ms/step - loss: 5.2156 - mean_absolute_error: 1.8686\n",
      "Epoch 61/100\n",
      "37/37 [==============================] - 0s 2ms/step - loss: 5.2156 - mean_absolute_error: 1.8686\n",
      "Epoch 62/100\n",
      "37/37 [==============================] - 0s 3ms/step - loss: 5.2156 - mean_absolute_error: 1.8686\n",
      "Epoch 63/100\n",
      "37/37 [==============================] - 0s 2ms/step - loss: 5.2156 - mean_absolute_error: 1.8686\n",
      "Epoch 64/100\n",
      "37/37 [==============================] - 0s 2ms/step - loss: 5.2156 - mean_absolute_error: 1.8686\n",
      "Epoch 65/100\n",
      "37/37 [==============================] - 0s 2ms/step - loss: 5.2156 - mean_absolute_error: 1.8686\n",
      "Epoch 66/100\n",
      "37/37 [==============================] - 0s 2ms/step - loss: 5.2156 - mean_absolute_error: 1.8686\n",
      "Epoch 67/100\n",
      "37/37 [==============================] - 0s 2ms/step - loss: 5.2156 - mean_absolute_error: 1.8686\n",
      "Epoch 68/100\n",
      "37/37 [==============================] - 0s 2ms/step - loss: 5.2156 - mean_absolute_error: 1.8686\n",
      "Epoch 69/100\n",
      "37/37 [==============================] - 0s 2ms/step - loss: 5.2156 - mean_absolute_error: 1.8686\n",
      "Epoch 70/100\n",
      "37/37 [==============================] - 0s 2ms/step - loss: 5.2156 - mean_absolute_error: 1.8686\n",
      "Epoch 71/100\n",
      "37/37 [==============================] - 0s 2ms/step - loss: 5.2156 - mean_absolute_error: 1.8686\n",
      "Epoch 72/100\n",
      "37/37 [==============================] - 0s 2ms/step - loss: 5.2156 - mean_absolute_error: 1.8686\n",
      "Epoch 73/100\n",
      "37/37 [==============================] - 0s 2ms/step - loss: 5.2156 - mean_absolute_error: 1.8686\n",
      "Epoch 74/100\n",
      "37/37 [==============================] - 0s 2ms/step - loss: 5.2156 - mean_absolute_error: 1.8686\n",
      "Epoch 75/100\n",
      "37/37 [==============================] - 0s 2ms/step - loss: 5.2156 - mean_absolute_error: 1.8686\n",
      "Epoch 76/100\n",
      "37/37 [==============================] - 0s 2ms/step - loss: 5.2156 - mean_absolute_error: 1.8686\n",
      "Epoch 77/100\n",
      "37/37 [==============================] - 0s 2ms/step - loss: 5.2156 - mean_absolute_error: 1.8686\n",
      "Epoch 78/100\n",
      "37/37 [==============================] - 0s 2ms/step - loss: 5.2156 - mean_absolute_error: 1.8686\n",
      "Epoch 79/100\n",
      "37/37 [==============================] - 0s 2ms/step - loss: 5.2156 - mean_absolute_error: 1.8686\n",
      "Epoch 80/100\n",
      "37/37 [==============================] - 0s 2ms/step - loss: 5.2156 - mean_absolute_error: 1.8686\n",
      "Epoch 81/100\n",
      "37/37 [==============================] - 0s 2ms/step - loss: 5.2156 - mean_absolute_error: 1.8686\n",
      "Epoch 82/100\n",
      "37/37 [==============================] - 0s 2ms/step - loss: 5.2156 - mean_absolute_error: 1.8686\n",
      "Epoch 83/100\n",
      "37/37 [==============================] - 0s 2ms/step - loss: 5.2156 - mean_absolute_error: 1.8686\n",
      "Epoch 84/100\n",
      "37/37 [==============================] - 0s 2ms/step - loss: 5.2156 - mean_absolute_error: 1.8686\n",
      "Epoch 85/100\n",
      "37/37 [==============================] - 0s 2ms/step - loss: 5.2156 - mean_absolute_error: 1.8686\n",
      "Epoch 86/100\n",
      "37/37 [==============================] - 0s 2ms/step - loss: 5.2156 - mean_absolute_error: 1.8686\n",
      "Epoch 87/100\n",
      "37/37 [==============================] - 0s 2ms/step - loss: 5.2156 - mean_absolute_error: 1.8686\n",
      "Epoch 88/100\n",
      "37/37 [==============================] - 0s 2ms/step - loss: 5.2156 - mean_absolute_error: 1.8686\n",
      "Epoch 89/100\n",
      "37/37 [==============================] - 0s 2ms/step - loss: 5.2156 - mean_absolute_error: 1.8686\n",
      "Epoch 90/100\n",
      "37/37 [==============================] - 0s 2ms/step - loss: 5.2156 - mean_absolute_error: 1.8686\n",
      "Epoch 91/100\n",
      "37/37 [==============================] - 0s 2ms/step - loss: 5.2156 - mean_absolute_error: 1.8686\n",
      "Epoch 92/100\n",
      "37/37 [==============================] - 0s 2ms/step - loss: 5.2156 - mean_absolute_error: 1.8686\n",
      "Epoch 93/100\n",
      "37/37 [==============================] - 0s 2ms/step - loss: 5.2156 - mean_absolute_error: 1.8686\n",
      "Epoch 94/100\n",
      "37/37 [==============================] - 0s 2ms/step - loss: 5.2156 - mean_absolute_error: 1.8686\n",
      "Epoch 95/100\n",
      "37/37 [==============================] - 0s 2ms/step - loss: 5.2156 - mean_absolute_error: 1.8686\n",
      "Epoch 96/100\n",
      "37/37 [==============================] - 0s 2ms/step - loss: 5.2156 - mean_absolute_error: 1.8686\n",
      "Epoch 97/100\n",
      "37/37 [==============================] - 0s 2ms/step - loss: 5.2156 - mean_absolute_error: 1.8686\n",
      "Epoch 98/100\n",
      "37/37 [==============================] - 0s 2ms/step - loss: 5.2156 - mean_absolute_error: 1.8686\n",
      "Epoch 99/100\n",
      "37/37 [==============================] - 0s 2ms/step - loss: 5.2156 - mean_absolute_error: 1.8686\n",
      "Epoch 100/100\n",
      "37/37 [==============================] - 0s 2ms/step - loss: 5.2156 - mean_absolute_error: 1.8686\n"
     ]
    },
    {
     "data": {
      "text/plain": [
       "<keras.src.callbacks.History at 0x25d37bff3d0>"
      ]
     },
     "execution_count": 157,
     "metadata": {},
     "output_type": "execute_result"
    }
   ],
   "source": [
    "ann.compile(optimizer = 'adam', loss = 'mean_squared_error', metrics = ['mean_absolute_error'])\n",
    "ann.fit(X_train, y_train, batch_size= 32, epochs= 100)"
   ]
  },
  {
   "cell_type": "markdown",
   "metadata": {},
   "source": [
    "# Model Prediction"
   ]
  },
  {
   "cell_type": "code",
   "execution_count": 158,
   "metadata": {},
   "outputs": [],
   "source": [
    "# y_pred = svm_regressor.predict(X_test)\n"
   ]
  },
  {
   "cell_type": "code",
   "execution_count": 159,
   "metadata": {},
   "outputs": [],
   "source": [
    "# y_train_pred = xgb_regressor.predict(X_train)\n",
    "# y_pred = xgb_regressor.predict(X_test)"
   ]
  },
  {
   "cell_type": "code",
   "execution_count": 160,
   "metadata": {},
   "outputs": [
    {
     "name": "stdout",
     "output_type": "stream",
     "text": [
      "37/37 [==============================] - 0s 2ms/step\n",
      "10/10 [==============================] - 0s 1ms/step\n"
     ]
    }
   ],
   "source": [
    "y_train_pred = ann.predict(X_train)\n",
    "y_pred = ann.predict(X_test)"
   ]
  },
  {
   "cell_type": "code",
   "execution_count": 161,
   "metadata": {},
   "outputs": [
    {
     "data": {
      "text/plain": [
       "-2.0250798473813783"
      ]
     },
     "metadata": {},
     "output_type": "display_data"
    }
   ],
   "source": [
    "r2 = r2_score(y_train, y_train_pred)\n",
    "display(r2)"
   ]
  },
  {
   "cell_type": "code",
   "execution_count": 162,
   "metadata": {},
   "outputs": [
    {
     "data": {
      "text/plain": [
       "-2.0111245776655315"
      ]
     },
     "metadata": {},
     "output_type": "display_data"
    }
   ],
   "source": [
    "mse = mean_squared_error(y_test, y_pred)\n",
    "r2 = r2_score(y_test, y_pred)\n",
    "display(r2)"
   ]
  },
  {
   "cell_type": "code",
   "execution_count": 163,
   "metadata": {},
   "outputs": [
    {
     "ename": "ValueError",
     "evalue": "Per-column arrays must each be 1-dimensional",
     "output_type": "error",
     "traceback": [
      "\u001b[1;31m---------------------------------------------------------------------------\u001b[0m",
      "\u001b[1;31mValueError\u001b[0m                                Traceback (most recent call last)",
      "Cell \u001b[1;32mIn[163], line 1\u001b[0m\n\u001b[1;32m----> 1\u001b[0m comparison_df \u001b[38;5;241m=\u001b[39m \u001b[43mpd\u001b[49m\u001b[38;5;241;43m.\u001b[39;49m\u001b[43mDataFrame\u001b[49m\u001b[43m(\u001b[49m\u001b[43m{\u001b[49m\u001b[38;5;124;43m'\u001b[39;49m\u001b[38;5;124;43mActual\u001b[39;49m\u001b[38;5;124;43m'\u001b[39;49m\u001b[43m:\u001b[49m\u001b[43m \u001b[49m\u001b[43my_test\u001b[49m\u001b[43m,\u001b[49m\u001b[43m \u001b[49m\u001b[38;5;124;43m'\u001b[39;49m\u001b[38;5;124;43mPredicted\u001b[39;49m\u001b[38;5;124;43m'\u001b[39;49m\u001b[43m:\u001b[49m\u001b[43m \u001b[49m\u001b[43my_pred\u001b[49m\u001b[43m}\u001b[49m\u001b[43m)\u001b[49m\n\u001b[0;32m      2\u001b[0m display(comparison_df)\n",
      "File \u001b[1;32mc:\\Users\\patri\\AppData\\Local\\Programs\\Python\\Python311\\Lib\\site-packages\\pandas\\core\\frame.py:733\u001b[0m, in \u001b[0;36mDataFrame.__init__\u001b[1;34m(self, data, index, columns, dtype, copy)\u001b[0m\n\u001b[0;32m    727\u001b[0m     mgr \u001b[38;5;241m=\u001b[39m \u001b[38;5;28mself\u001b[39m\u001b[38;5;241m.\u001b[39m_init_mgr(\n\u001b[0;32m    728\u001b[0m         data, axes\u001b[38;5;241m=\u001b[39m{\u001b[38;5;124m\"\u001b[39m\u001b[38;5;124mindex\u001b[39m\u001b[38;5;124m\"\u001b[39m: index, \u001b[38;5;124m\"\u001b[39m\u001b[38;5;124mcolumns\u001b[39m\u001b[38;5;124m\"\u001b[39m: columns}, dtype\u001b[38;5;241m=\u001b[39mdtype, copy\u001b[38;5;241m=\u001b[39mcopy\n\u001b[0;32m    729\u001b[0m     )\n\u001b[0;32m    731\u001b[0m \u001b[38;5;28;01melif\u001b[39;00m \u001b[38;5;28misinstance\u001b[39m(data, \u001b[38;5;28mdict\u001b[39m):\n\u001b[0;32m    732\u001b[0m     \u001b[38;5;66;03m# GH#38939 de facto copy defaults to False only in non-dict cases\u001b[39;00m\n\u001b[1;32m--> 733\u001b[0m     mgr \u001b[38;5;241m=\u001b[39m \u001b[43mdict_to_mgr\u001b[49m\u001b[43m(\u001b[49m\u001b[43mdata\u001b[49m\u001b[43m,\u001b[49m\u001b[43m \u001b[49m\u001b[43mindex\u001b[49m\u001b[43m,\u001b[49m\u001b[43m \u001b[49m\u001b[43mcolumns\u001b[49m\u001b[43m,\u001b[49m\u001b[43m \u001b[49m\u001b[43mdtype\u001b[49m\u001b[38;5;241;43m=\u001b[39;49m\u001b[43mdtype\u001b[49m\u001b[43m,\u001b[49m\u001b[43m \u001b[49m\u001b[43mcopy\u001b[49m\u001b[38;5;241;43m=\u001b[39;49m\u001b[43mcopy\u001b[49m\u001b[43m,\u001b[49m\u001b[43m \u001b[49m\u001b[43mtyp\u001b[49m\u001b[38;5;241;43m=\u001b[39;49m\u001b[43mmanager\u001b[49m\u001b[43m)\u001b[49m\n\u001b[0;32m    734\u001b[0m \u001b[38;5;28;01melif\u001b[39;00m \u001b[38;5;28misinstance\u001b[39m(data, ma\u001b[38;5;241m.\u001b[39mMaskedArray):\n\u001b[0;32m    735\u001b[0m     \u001b[38;5;28;01mfrom\u001b[39;00m \u001b[38;5;21;01mnumpy\u001b[39;00m\u001b[38;5;21;01m.\u001b[39;00m\u001b[38;5;21;01mma\u001b[39;00m \u001b[38;5;28;01mimport\u001b[39;00m mrecords\n",
      "File \u001b[1;32mc:\\Users\\patri\\AppData\\Local\\Programs\\Python\\Python311\\Lib\\site-packages\\pandas\\core\\internals\\construction.py:503\u001b[0m, in \u001b[0;36mdict_to_mgr\u001b[1;34m(data, index, columns, dtype, typ, copy)\u001b[0m\n\u001b[0;32m    499\u001b[0m     \u001b[38;5;28;01melse\u001b[39;00m:\n\u001b[0;32m    500\u001b[0m         \u001b[38;5;66;03m# dtype check to exclude e.g. range objects, scalars\u001b[39;00m\n\u001b[0;32m    501\u001b[0m         arrays \u001b[38;5;241m=\u001b[39m [x\u001b[38;5;241m.\u001b[39mcopy() \u001b[38;5;28;01mif\u001b[39;00m \u001b[38;5;28mhasattr\u001b[39m(x, \u001b[38;5;124m\"\u001b[39m\u001b[38;5;124mdtype\u001b[39m\u001b[38;5;124m\"\u001b[39m) \u001b[38;5;28;01melse\u001b[39;00m x \u001b[38;5;28;01mfor\u001b[39;00m x \u001b[38;5;129;01min\u001b[39;00m arrays]\n\u001b[1;32m--> 503\u001b[0m \u001b[38;5;28;01mreturn\u001b[39;00m \u001b[43marrays_to_mgr\u001b[49m\u001b[43m(\u001b[49m\u001b[43marrays\u001b[49m\u001b[43m,\u001b[49m\u001b[43m \u001b[49m\u001b[43mcolumns\u001b[49m\u001b[43m,\u001b[49m\u001b[43m \u001b[49m\u001b[43mindex\u001b[49m\u001b[43m,\u001b[49m\u001b[43m \u001b[49m\u001b[43mdtype\u001b[49m\u001b[38;5;241;43m=\u001b[39;49m\u001b[43mdtype\u001b[49m\u001b[43m,\u001b[49m\u001b[43m \u001b[49m\u001b[43mtyp\u001b[49m\u001b[38;5;241;43m=\u001b[39;49m\u001b[43mtyp\u001b[49m\u001b[43m,\u001b[49m\u001b[43m \u001b[49m\u001b[43mconsolidate\u001b[49m\u001b[38;5;241;43m=\u001b[39;49m\u001b[43mcopy\u001b[49m\u001b[43m)\u001b[49m\n",
      "File \u001b[1;32mc:\\Users\\patri\\AppData\\Local\\Programs\\Python\\Python311\\Lib\\site-packages\\pandas\\core\\internals\\construction.py:114\u001b[0m, in \u001b[0;36marrays_to_mgr\u001b[1;34m(arrays, columns, index, dtype, verify_integrity, typ, consolidate)\u001b[0m\n\u001b[0;32m    111\u001b[0m \u001b[38;5;28;01mif\u001b[39;00m verify_integrity:\n\u001b[0;32m    112\u001b[0m     \u001b[38;5;66;03m# figure out the index, if necessary\u001b[39;00m\n\u001b[0;32m    113\u001b[0m     \u001b[38;5;28;01mif\u001b[39;00m index \u001b[38;5;129;01mis\u001b[39;00m \u001b[38;5;28;01mNone\u001b[39;00m:\n\u001b[1;32m--> 114\u001b[0m         index \u001b[38;5;241m=\u001b[39m \u001b[43m_extract_index\u001b[49m\u001b[43m(\u001b[49m\u001b[43marrays\u001b[49m\u001b[43m)\u001b[49m\n\u001b[0;32m    115\u001b[0m     \u001b[38;5;28;01melse\u001b[39;00m:\n\u001b[0;32m    116\u001b[0m         index \u001b[38;5;241m=\u001b[39m ensure_index(index)\n",
      "File \u001b[1;32mc:\\Users\\patri\\AppData\\Local\\Programs\\Python\\Python311\\Lib\\site-packages\\pandas\\core\\internals\\construction.py:664\u001b[0m, in \u001b[0;36m_extract_index\u001b[1;34m(data)\u001b[0m\n\u001b[0;32m    662\u001b[0m         raw_lengths\u001b[38;5;241m.\u001b[39mappend(\u001b[38;5;28mlen\u001b[39m(val))\n\u001b[0;32m    663\u001b[0m     \u001b[38;5;28;01melif\u001b[39;00m \u001b[38;5;28misinstance\u001b[39m(val, np\u001b[38;5;241m.\u001b[39mndarray) \u001b[38;5;129;01mand\u001b[39;00m val\u001b[38;5;241m.\u001b[39mndim \u001b[38;5;241m>\u001b[39m \u001b[38;5;241m1\u001b[39m:\n\u001b[1;32m--> 664\u001b[0m         \u001b[38;5;28;01mraise\u001b[39;00m \u001b[38;5;167;01mValueError\u001b[39;00m(\u001b[38;5;124m\"\u001b[39m\u001b[38;5;124mPer-column arrays must each be 1-dimensional\u001b[39m\u001b[38;5;124m\"\u001b[39m)\n\u001b[0;32m    666\u001b[0m \u001b[38;5;28;01mif\u001b[39;00m \u001b[38;5;129;01mnot\u001b[39;00m indexes \u001b[38;5;129;01mand\u001b[39;00m \u001b[38;5;129;01mnot\u001b[39;00m raw_lengths:\n\u001b[0;32m    667\u001b[0m     \u001b[38;5;28;01mraise\u001b[39;00m \u001b[38;5;167;01mValueError\u001b[39;00m(\u001b[38;5;124m\"\u001b[39m\u001b[38;5;124mIf using all scalar values, you must pass an index\u001b[39m\u001b[38;5;124m\"\u001b[39m)\n",
      "\u001b[1;31mValueError\u001b[0m: Per-column arrays must each be 1-dimensional"
     ]
    }
   ],
   "source": [
    "comparison_df = pd.DataFrame({'Actual': y_test, 'Predicted': y_pred})\n",
    "display(comparison_df)\n"
   ]
  },
  {
   "cell_type": "code",
   "execution_count": null,
   "metadata": {},
   "outputs": [],
   "source": []
  },
  {
   "cell_type": "code",
   "execution_count": null,
   "metadata": {},
   "outputs": [],
   "source": []
  }
 ],
 "metadata": {
  "kernelspec": {
   "display_name": "Python 3",
   "language": "python",
   "name": "python3"
  },
  "language_info": {
   "codemirror_mode": {
    "name": "ipython",
    "version": 3
   },
   "file_extension": ".py",
   "mimetype": "text/x-python",
   "name": "python",
   "nbconvert_exporter": "python",
   "pygments_lexer": "ipython3",
   "version": "3.11.7"
  }
 },
 "nbformat": 4,
 "nbformat_minor": 2
}
